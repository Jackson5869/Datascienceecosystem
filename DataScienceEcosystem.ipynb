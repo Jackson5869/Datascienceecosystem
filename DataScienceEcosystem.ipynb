{
 "cells": [
  {
   "cell_type": "markdown",
   "id": "27ae9c0a-98ac-4d5f-9b9f-f98a3f6124e1",
   "metadata": {},
   "source": [
    "#Data Science Tools and Ecosystem"
   ]
  },
  {
   "cell_type": "markdown",
   "id": "ec9b4653-e8bd-47d7-b624-d70723a6dcd8",
   "metadata": {},
   "source": [
    "In this notebook, Data Science Tools and Ecosystem are summarized."
   ]
  },
  {
   "cell_type": "markdown",
   "id": "342b0488-a793-4409-bc47-0608b3343750",
   "metadata": {},
   "source": [
    "Some of the popular languages that Data Scientists use are:\n",
    "1. SQL.\n",
    "2. R.\n",
    "3. Java.\n",
    "4. JavaScript.\n",
    "5. Scala.\n",
    "6. VBA (Visual Basic for Applications), etc. "
   ]
  },
  {
   "cell_type": "markdown",
   "id": "51ff82ca-e4b4-42f1-a902-3e5365b5a8af",
   "metadata": {},
   "source": [
    "Some of the commonly used libraries used by Data Scientists include:\n",
    "1. SciKit-Learn\n",
    "2. NumPy\n",
    "3. SciPy\n",
    "4. VisPy\n",
    "5. Pandas\n",
    "6. TensorFlow\n",
    "7. PyTorch etc. "
   ]
  },
  {
   "cell_type": "markdown",
   "id": "b470093b-1eb9-48b2-b973-85e2fb1ac336",
   "metadata": {},
   "source": [
    "|Data Science Tools.|\n",
    "|-------------|\n",
    "|Microsoft Power BI. |\n",
    "|TensorFlow.         |\n",
    "|Jupyter Notebooks.  |"
   ]
  },
  {
   "cell_type": "markdown",
   "id": "c4bba39c-aae5-4ff6-ac0c-37e6fa1501e8",
   "metadata": {},
   "source": [
    " ### Below are a few examples of evaluating arithmetic expressions in Python."
   ]
  },
  {
   "cell_type": "code",
   "execution_count": 1,
   "id": "cfc05deb-0dc9-418a-9bd4-97ccdda25ef9",
   "metadata": {},
   "outputs": [
    {
     "data": {
      "text/plain": [
       "17"
      ]
     },
     "execution_count": 1,
     "metadata": {},
     "output_type": "execute_result"
    }
   ],
   "source": [
    "# This is a simple arithmetic expression to multiply then add integers\n",
    "(3*4)+5"
   ]
  },
  {
   "cell_type": "code",
   "execution_count": 5,
   "id": "646ba9f7-0923-434a-92a8-271140b272c2",
   "metadata": {},
   "outputs": [
    {
     "data": {
      "text/plain": [
       "5.833333333333333"
      ]
     },
     "execution_count": 5,
     "metadata": {},
     "output_type": "execute_result"
    }
   ],
   "source": [
    "#This will convert 200 minutes to hours by diving by 60\n",
    "350/60"
   ]
  },
  {
   "cell_type": "markdown",
   "id": "43d7de3c-8490-4b26-a363-30e0067be4da",
   "metadata": {},
   "source": [
    "# This markdown cell will list all the objectives.\n",
    "* Create a markdown cell to list data science languages.\n",
    "* Create a markdown cell to list data science libraries.\n",
    "* Create a markdown cell with a table of Data Science tools.\n",
    "* Create a markdown cell introducing arithmetic expression examples. "
   ]
  },
  {
   "cell_type": "markdown",
   "id": "0f9c5421-c0b8-4f2a-9e55-f7e20e05d12d",
   "metadata": {},
   "source": [
    "Jackson Senyo Nkansah\n",
    "## Author"
   ]
  },
  {
   "cell_type": "code",
   "execution_count": null,
   "id": "f2b33bc7-fa6b-4966-ba0f-628c231055c1",
   "metadata": {},
   "outputs": [],
   "source": []
  }
 ],
 "metadata": {
  "kernelspec": {
   "display_name": "Python [conda env:base] *",
   "language": "python",
   "name": "conda-base-py"
  },
  "language_info": {
   "codemirror_mode": {
    "name": "ipython",
    "version": 3
   },
   "file_extension": ".py",
   "mimetype": "text/x-python",
   "name": "python",
   "nbconvert_exporter": "python",
   "pygments_lexer": "ipython3",
   "version": "3.12.7"
  }
 },
 "nbformat": 4,
 "nbformat_minor": 5
}
